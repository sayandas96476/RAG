{
  "nbformat": 4,
  "nbformat_minor": 0,
  "metadata": {
    "colab": {
      "provenance": [],
      "authorship_tag": "ABX9TyMQceyJMOrG4+I1utXue/tm",
      "include_colab_link": true
    },
    "kernelspec": {
      "name": "python3",
      "display_name": "Python 3"
    },
    "language_info": {
      "name": "python"
    }
  },
  "cells": [
    {
      "cell_type": "markdown",
      "metadata": {
        "id": "view-in-github",
        "colab_type": "text"
      },
      "source": [
        "<a href=\"https://colab.research.google.com/github/sayandas96476/RAG/blob/main/Sparse_retrieval_wikipedia.ipynb\" target=\"_parent\"><img src=\"https://colab.research.google.com/assets/colab-badge.svg\" alt=\"Open In Colab\"/></a>"
      ]
    },
    {
      "cell_type": "code",
      "execution_count": 1,
      "metadata": {
        "id": "8ihY81ft7jgp"
      },
      "outputs": [],
      "source": [
        "from sklearn.feature_extraction.text import TfidfVectorizer\n",
        "from sklearn.metrics.pairwise import cosine_similarity\n",
        "import numpy as np\n"
      ]
    },
    {
      "cell_type": "code",
      "source": [
        "import requests\n",
        "from bs4 import BeautifulSoup\n",
        "\n",
        "def get_full_wikipedia_content(title):\n",
        "    # Construct the URL for the full Wikipedia page\n",
        "    url = f\"https://en.wikipedia.org/wiki/{title.replace(' ', '_')}\"\n",
        "\n",
        "    try:\n",
        "        # Make the request\n",
        "        response = requests.get(url)\n",
        "        response.raise_for_status()\n",
        "\n",
        "        # Parse the HTML content\n",
        "        soup = BeautifulSoup(response.text, 'html.parser')\n",
        "\n",
        "        # Find the main content div\n",
        "        content_div = soup.find(id=\"mw-content-text\")\n",
        "\n",
        "        # Extract all paragraphs\n",
        "        paragraphs = content_div.find_all('p')\n",
        "\n",
        "        # Combine all paragraph texts\n",
        "        full_text = '\\n\\n'.join([para.get_text() for para in paragraphs])\n",
        "\n",
        "        # Remove citations [1], [2], etc.\n",
        "        import re\n",
        "        full_text = re.sub(r'\\[\\d+\\]', '', full_text)\n",
        "\n",
        "        return full_text.strip()\n",
        "\n",
        "    except requests.RequestException as e:\n",
        "        return f\"Error fetching page: {str(e)}\"\n",
        "\n",
        "# First install beautifulsoup4 if you haven't:\n",
        "# pip install beautifulsoup4\n",
        "\n",
        "# Example usage\n",
        "title = \"Batman\"\n",
        "text = get_full_wikipedia_content(title)\n"
      ],
      "metadata": {
        "id": "bHJKEimH8VA6"
      },
      "execution_count": 2,
      "outputs": []
    },
    {
      "cell_type": "code",
      "source": [
        "text = text.replace('\\n', '')\n",
        "\n",
        "lis = text.split(\".\")\n",
        "def combine_strings(original_list, chunk_size=3):\n",
        "    return [''.join(original_list[i:i + chunk_size])\n",
        "            for i in range(0, len(original_list), chunk_size)]\n",
        "\n",
        "# Example usage:\n",
        "original = lis  # Your 100 strings\n",
        "combined = combine_strings(original)\n",
        "text = \"\"\" \"\"\"\n",
        "for i in combined:\n",
        "  text += i+\"\\n\\n\\n\""
      ],
      "metadata": {
        "id": "bcIXFKNM8Vzg"
      },
      "execution_count": 3,
      "outputs": []
    },
    {
      "cell_type": "code",
      "source": [
        "documents = text.split(\"\\n\\n\\n\")"
      ],
      "metadata": {
        "id": "6mUO3FzX8bZj"
      },
      "execution_count": 4,
      "outputs": []
    },
    {
      "cell_type": "code",
      "source": [
        "len(documents)"
      ],
      "metadata": {
        "colab": {
          "base_uri": "https://localhost:8080/"
        },
        "id": "2HAIYXnS8gz8",
        "outputId": "8ccc6d40-ecf8-42b6-b000-5f19a1ea63c0"
      },
      "execution_count": 5,
      "outputs": [
        {
          "output_type": "execute_result",
          "data": {
            "text/plain": [
              "136"
            ]
          },
          "metadata": {},
          "execution_count": 5
        }
      ]
    },
    {
      "cell_type": "code",
      "source": [
        "from sklearn.feature_extraction.text import TfidfVectorizer\n",
        "import re\n",
        "import nltk\n",
        "from nltk.corpus import stopwords\n",
        "from nltk.stem import WordNetLemmatizer\n",
        "\n",
        "# Download required NLTK data\n",
        "nltk.download('stopwords')\n",
        "nltk.download('wordnet')\n",
        "\n",
        "def preprocess_text(text):\n",
        "    # Convert to lowercase\n",
        "    text = text.lower()\n",
        "\n",
        "    # Remove punctuation and numbers\n",
        "    text = re.sub(r'[^a-zA-Z\\s]', '', text)\n",
        "\n",
        "    # Tokenize\n",
        "    words = text.split()\n",
        "\n",
        "    # Remove stopwords\n",
        "    stop_words = set(stopwords.words('english'))\n",
        "    words = [w for w in words if w not in stop_words]\n",
        "\n",
        "    # Lemmatize\n",
        "    lemmatizer = WordNetLemmatizer()\n",
        "    words = [lemmatizer.lemmatize(word) for word in words]\n",
        "\n",
        "    return ' '.join(words)\n",
        "\n",
        "preprocessed_docs = [preprocess_text(doc) for doc in documents]"
      ],
      "metadata": {
        "colab": {
          "base_uri": "https://localhost:8080/"
        },
        "id": "UFmMqm7z8iHs",
        "outputId": "9271214d-46e9-4d45-bfe6-9ae020943d6b"
      },
      "execution_count": 6,
      "outputs": [
        {
          "output_type": "stream",
          "name": "stderr",
          "text": [
            "[nltk_data] Downloading package stopwords to /root/nltk_data...\n",
            "[nltk_data]   Unzipping corpora/stopwords.zip.\n",
            "[nltk_data] Downloading package wordnet to /root/nltk_data...\n"
          ]
        }
      ]
    },
    {
      "cell_type": "code",
      "source": [
        "# Step 2: Initialize the TfidfVectorizer\n",
        "vectorizer = TfidfVectorizer()\n",
        "\n",
        "# Step 3: Fit and transform the documents to generate the TF-IDF matrix\n",
        "tfidf_matrix = vectorizer.fit_transform(preprocessed_docs)\n",
        "\n"
      ],
      "metadata": {
        "id": "BjGHiuTx8mRD"
      },
      "execution_count": 7,
      "outputs": []
    },
    {
      "cell_type": "code",
      "source": [
        "# Get number of documents (rows)\n",
        "n_docs = tfidf_matrix.shape[0]\n",
        "print(\"Number of vectors\", n_docs)\n",
        "\n",
        "# Get number of terms/features (columns)\n",
        "n_terms = tfidf_matrix.shape[1]\n",
        "print(\"features of a vector\", n_terms)"
      ],
      "metadata": {
        "colab": {
          "base_uri": "https://localhost:8080/"
        },
        "id": "MlZs3RmY8qgH",
        "outputId": "2aa91af6-2c27-4133-fe32-e2a3e77c5139"
      },
      "execution_count": 8,
      "outputs": [
        {
          "output_type": "stream",
          "name": "stdout",
          "text": [
            "Number of vectors 136\n",
            "features of a vector 2107\n"
          ]
        }
      ]
    },
    {
      "cell_type": "code",
      "source": [
        "# Step 4: Define the search query\n",
        "query = \"Who created Batman comic\"\n",
        "\n",
        "# Step 5: Transform the query into a TF-IDF vector\n",
        "query_vector = vectorizer.transform([query])\n"
      ],
      "metadata": {
        "id": "kW30Xt3g8tR4"
      },
      "execution_count": 9,
      "outputs": []
    },
    {
      "cell_type": "code",
      "source": [
        "\n",
        "# Step 6: Compute cosine similarity between the query and the documents\n",
        "cosine_similarities = cosine_similarity(query_vector, tfidf_matrix).flatten()\n",
        "\n",
        "# Step 7: Get the top 3 results based on similarity scores\n",
        "top_n = 3\n",
        "top_indices = np.argsort(cosine_similarities)[::-1][:top_n]\n",
        "\n",
        "# Step 8: Print the results\n",
        "print(\"Top 3 Search Results:\")\n",
        "for i, idx in enumerate(top_indices):\n",
        "    print(f\"{i + 1}. Document: {documents[idx]} (Score: {cosine_similarities[idx]:.4f})\")\n",
        "    print(\"================\")"
      ],
      "metadata": {
        "colab": {
          "base_uri": "https://localhost:8080/"
        },
        "id": "N5sq8wle83Iu",
        "outputId": "9e13cd67-06d5-4590-b2e5-a25b80138802"
      },
      "execution_count": 11,
      "outputs": [
        {
          "output_type": "stream",
          "name": "stdout",
          "text": [
            "Top 3 Search Results:\n",
            "1. Document:  Batman[b] is a superhero who appears in American comic books published by DC Comics Batman was created by the artist Bob Kane and writer Bill Finger, and debuted in the 27th issue of the comic book Detective Comics on March 30, 1939 In the DC Universe, Batman is the alias of Bruce Wayne, a wealthy American playboy, philanthropist, and industrialist who resides in Gotham City (Score: 0.3357)\n",
            "================\n",
            "2. Document:  Various creators worked to return Batman to his darker roots in the 1970s and 1980s, culminating with the 1986 miniseries The Dark Knight Returns by Frank MillerDC has featured Batman in many comic books, including comics published under its imprints such as Vertigo and Black Label; he has been considered DC's flagship character since the 1990s The longest-running Batman comic, Detective Comics, is the longest-running comic book in the United States (Score: 0.2262)\n",
            "================\n",
            "3. Document: In early 1939, following the success of Superman, DC Comics' editors requested more superheroes Bob Kane created Batman, initially drawing a character with red tights, bat wings, and a domino mask Bill Finger, a collaborator, made significant contributions by suggesting a cowl, cape, gloves, and a darker costume (Score: 0.2117)\n",
            "================\n"
          ]
        }
      ]
    },
    {
      "cell_type": "code",
      "source": [
        "def retrieve(query):\n",
        "  query_vector = vectorizer.transform([query])\n",
        "  # Step 6: Compute cosine similarity between the query and the documents\n",
        "  cosine_similarities = cosine_similarity(query_vector, tfidf_matrix).flatten()\n",
        "\n",
        "  # Step 7: Get the top 3 results based on similarity scores\n",
        "  top_n = 3\n",
        "  top_indices = np.argsort(cosine_similarities)[::-1][:top_n]\n",
        "\n",
        "  # Step 8: Print the results\n",
        "  print(\"Top 3 Search Results:\")\n",
        "  for i, idx in enumerate(top_indices):\n",
        "      print(f\"{i + 1}. Document: {documents[idx]} (Score: {cosine_similarities[idx]:.4f})\")\n",
        "      print(\"================\")\n"
      ],
      "metadata": {
        "id": "SCHfFE1B9OEh"
      },
      "execution_count": 13,
      "outputs": []
    },
    {
      "cell_type": "code",
      "source": [
        "\n",
        "query = \"Who created Batman comic\"\n",
        "retrieve(query)"
      ],
      "metadata": {
        "colab": {
          "base_uri": "https://localhost:8080/"
        },
        "id": "yO8MVTQJ9b9x",
        "outputId": "b321c8ab-6fce-4686-83c9-93d51b1a0952"
      },
      "execution_count": 14,
      "outputs": [
        {
          "output_type": "stream",
          "name": "stdout",
          "text": [
            "Top 3 Search Results:\n",
            "1. Document:  Batman[b] is a superhero who appears in American comic books published by DC Comics Batman was created by the artist Bob Kane and writer Bill Finger, and debuted in the 27th issue of the comic book Detective Comics on March 30, 1939 In the DC Universe, Batman is the alias of Bruce Wayne, a wealthy American playboy, philanthropist, and industrialist who resides in Gotham City (Score: 0.3357)\n",
            "================\n",
            "2. Document:  Various creators worked to return Batman to his darker roots in the 1970s and 1980s, culminating with the 1986 miniseries The Dark Knight Returns by Frank MillerDC has featured Batman in many comic books, including comics published under its imprints such as Vertigo and Black Label; he has been considered DC's flagship character since the 1990s The longest-running Batman comic, Detective Comics, is the longest-running comic book in the United States (Score: 0.2262)\n",
            "================\n",
            "3. Document: In early 1939, following the success of Superman, DC Comics' editors requested more superheroes Bob Kane created Batman, initially drawing a character with red tights, bat wings, and a domino mask Bill Finger, a collaborator, made significant contributions by suggesting a cowl, cape, gloves, and a darker costume (Score: 0.2117)\n",
            "================\n"
          ]
        }
      ]
    },
    {
      "cell_type": "code",
      "source": [
        "query = \"Batmans love life\"\n",
        "\n",
        "retrieve(query)"
      ],
      "metadata": {
        "colab": {
          "base_uri": "https://localhost:8080/"
        },
        "id": "A869Zhxv9e8M",
        "outputId": "8e03f824-e61e-4f70-8b4f-2be4e2a2a760"
      },
      "execution_count": 16,
      "outputs": [
        {
          "output_type": "stream",
          "name": "stdout",
          "text": [
            "Top 3 Search Results:\n",
            "1. Document:  Vicki's attempts to uncover Batman's true identity lead to a complicated romantic involvement that waxed and waned over the years, especially during the early 1980s when their relationship became more seriousTalia al Ghul, introduced in Detective Comics #411 (1971), is another key player in Batman's love life Their relationship is fraught with conflict due to her father, Ra's al Ghul, and his criminal ambitions (Score: 0.1903)\n",
            "================\n",
            "2. Document: Everybody loves to draw Batman, and everybody wants to put their own spin on it (Score: 0.1884)\n",
            "================\n",
            "3. Document:  Over the years, they have shared intense connections, often navigating the fine line between love and conflict Their relationship culminated in an engagement during the Rebirth eraAnother important figure is Vicki Vale, a journalist introduced in Batman #49 (1948) (Score: 0.1313)\n",
            "================\n"
          ]
        }
      ]
    },
    {
      "cell_type": "code",
      "source": [
        "query = \"Batmans first love\"\n",
        "\n",
        "retrieve(query)"
      ],
      "metadata": {
        "colab": {
          "base_uri": "https://localhost:8080/"
        },
        "id": "ahEkfmdk9sSG",
        "outputId": "89a12b1f-15c8-4df2-cb1f-42015bf725f2"
      },
      "execution_count": 19,
      "outputs": [
        {
          "output_type": "stream",
          "name": "stdout",
          "text": [
            "Top 3 Search Results:\n",
            "1. Document:  The most prominent of these, Duke Thomas, later becomes Batman's crimefighting partner as The SignalBatman's romantic history spans decades, filled with relationships that reflect his struggle between personal happiness and his duty as Gotham's protector His first love interest was Julie Madison, introduced in Detective Comics #31 (1939) (Score: 0.2137)\n",
            "================\n",
            "2. Document: Everybody loves to draw Batman, and everybody wants to put their own spin on it (Score: 0.2030)\n",
            "================\n",
            "3. Document: The third Robin in the mainstream comics is Tim Drake, who first appeared in 1989 He went on to star in his own comic series, and goes by the name Red Robin, a variation on the traditional Robin persona In the first decade of the new millennium, Stephanie Brown served as the fourth in-universe Robin between stints as her self-made vigilante identity the Spoiler, and later as Batgirl (Score: 0.1429)\n",
            "================\n"
          ]
        }
      ]
    },
    {
      "cell_type": "code",
      "source": [],
      "metadata": {
        "id": "dThM2uxR96fz"
      },
      "execution_count": null,
      "outputs": []
    }
  ]
}